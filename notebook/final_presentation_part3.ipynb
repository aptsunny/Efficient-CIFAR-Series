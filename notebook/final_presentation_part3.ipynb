{
 "cells": [
  {
   "cell_type": "markdown",
   "metadata": {},
   "source": [
    "# Final Presentation part3"
   ]
  },
  {
   "cell_type": "code",
   "execution_count": 1,
   "metadata": {},
   "outputs": [
    {
     "name": "stdout",
     "output_type": "stream",
     "text": [
      "CIHS1_hType_circle.png\t\tresnet152_v2-0000.params\r\n",
      "ResNet34_v1-0000.params\t\tresnet152_v2-symbol.json\r\n",
      "ResNet34_v1-symbol.json\t\tresnet18_v1-0000.params\r\n",
      "__pycache__\t\t\tresnet18_v1-symbol.json\r\n",
      "a.svg\t\t\t\tresnet18_v1b-0000.params\r\n",
      "bag_of_tricks.ipynb\t\tresnet18_v1b-symbol.json\r\n",
      "batch_norm_post.ipynb\t\tresnet18_v2-0000.params\r\n",
      "blresnet.py\t\t\tresnet18_v2-symbol.json\r\n",
      "blresnet50_v1-0000.params\tresnet34_v1-0000.params\r\n",
      "blresnet50_v1-symbol.json\tresnet34_v1-symbol.json\r\n",
      "calculate_flops.py\t\tresnet34_v1b-0000.params\r\n",
      "cat.jpg\t\t\t\tresnet34_v1b-symbol.json\r\n",
      "checkpoint\t\t\tresnet34_v2-0000.params\r\n",
      "dask-worker-space\t\tresnet34_v2-symbol.json\r\n",
      "data\t\t\t\tresnet50_v1-0000.params\r\n",
      "dawn.py\t\t\t\tresnet50_v1-symbol.json\r\n",
      "dawn_utils.py\t\t\tresnet50_v1c-0000.params\r\n",
      "demo.ipynb\t\t\tresnet50_v1c-symbol.json\r\n",
      "experiments.ipynb\t\tresnet50_v1d-0000.params\r\n",
      "final_presentation_part1.ipynb\tresnet50_v1d-symbol.json\r\n",
      "final_presentation_part2.ipynb\tresnet50_v2-0000.params\r\n",
      "final_presentation_part3.ipynb\tresnet50_v2-symbol.json\r\n",
      "gluon_plot.py\t\t\tsample\r\n",
      "logs.tsv\t\t\tshopee-iet.zip\r\n",
      "mt_baker.jpg\t\t\ttest.py\r\n",
      "new_dawn.py\t\t\ttest.svg\r\n",
      "resnet101_v1-0000.params\tverify_imagenet.py\r\n",
      "resnet101_v1-symbol.json\twomencasualshoes_955.jpg\r\n",
      "resnet101_v2-0000.params\tyolo3_darknet53_voc-0000.params\r\n",
      "resnet101_v2-symbol.json\tyolo3_darknet53_voc-symbol.json\r\n"
     ]
    }
   ],
   "source": [
    "!ls\n"
   ]
  }
 ],
 "metadata": {
  "kernelspec": {
   "display_name": "Python [conda env:mxnet_p36] *",
   "language": "python",
   "name": "conda-env-mxnet_p36-py"
  },
  "language_info": {
   "codemirror_mode": {
    "name": "ipython",
    "version": 3
   },
   "file_extension": ".py",
   "mimetype": "text/x-python",
   "name": "python",
   "nbconvert_exporter": "python",
   "pygments_lexer": "ipython3",
   "version": "3.6.10"
  }
 },
 "nbformat": 4,
 "nbformat_minor": 4
}
